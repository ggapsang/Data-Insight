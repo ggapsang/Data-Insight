{
 "cells": [
  {
   "cell_type": "code",
   "execution_count": null,
   "metadata": {},
   "outputs": [],
   "source": [
    "import numpy as np\n",
    "import pandas as pd\n",
    "import os\n",
    "import sys\n",
    "from datetime import datetime\n",
    "from tqdm import tqdm\n",
    "\n",
    "import PivotTable as pt\n",
    "from process_mangement import TableTransformer as tt"
   ]
  },
  {
   "cell_type": "code",
   "execution_count": null,
   "metadata": {},
   "outputs": [],
   "source": [
    "process = \"2201\"\n",
    "today= datetime.today().strftime('%Y%m%d')"
   ]
  },
  {
   "cell_type": "code",
   "execution_count": null,
   "metadata": {},
   "outputs": [],
   "source": [
    "# 폴더경로\n",
    "folder_base = os.getcwd()\n",
    "folder_common = os.path.join(folder_base, \"working_common\")\n",
    "folder_schema = os.path.join(folder_base, \"schema\")\n",
    "folder_src = os.path.join(folder_base, \"working_by_source\")\n",
    "folder_result = os.path.join(folder_base, \"result\")\n",
    "\n",
    "# 분류체계 파일 로드\n",
    "f_cct = \"분류체계.csv\"\n",
    "path_cct = os.path.join(folder_schema, f_cct)\n",
    "df_cct = pd.read_csv(path_cct)\n",
    "\n",
    "# 속성체계 파일 로드\n",
    "f_indiv = \"속성체계.csv\"\n",
    "path_indiv = os.path.join(folder_schema, f_indiv)\n",
    "df_indiv = pd.read_csv(path_indiv)\n",
    "\n",
    "# 공통속성 작업파일 로드\n",
    "f_nm = \"2201_521,524,525,527,529_공통작업파일.csv\"\n",
    "f_path = os.path.join(folder_common, f_nm)\n",
    "df_common = pd.read_csv(f_path, encoding='utf8')\n",
    "\n",
    "# 해더 파일 로드\n",
    "header_path = os.path.join(folder_schema, \"info_headers.csv\")\n",
    "df_headers = pd.read_csv(header_path, encoding='utf8')\n",
    "df_headers = df_headers.fillna(value=np.nan)"
   ]
  },
  {
   "cell_type": "code",
   "execution_count": null,
   "metadata": {},
   "outputs": [],
   "source": [
    "# 표준데이터시트 cct 파일 로드\n",
    "f_std_ds = \"표준데이터시트(cct).csv\"\n",
    "f_std_ds_path = os.path.join(folder_src, f_std_ds)\n",
    "df_std_ds_cct = pd.read_csv(f_std_ds_path, encoding='utf8')\n",
    "\n",
    "# 비표준데이터시트 cct 파일 로드\n",
    "f_nonstd_ds = \"비표준데이터시트(cct).csv\"\n",
    "f_nonstd_ds_path = os.path.join(folder_src, f_nonstd_ds)\n",
    "df_nonstd_ds_cct = pd.read_csv(f_nonstd_ds_path, encoding='utf8')"
   ]
  },
  {
   "cell_type": "code",
   "execution_count": null,
   "metadata": {},
   "outputs": [],
   "source": [
    "transformer = tt(df_common, df_cct, df_indiv)\n",
    "\n",
    "df_indiv = transformer.from_common_to_indiv(df_headers=df_headers, df_nonstd_ds_cct=df_nonstd_ds_cct, df_std_ds_cct=df_std_ds_cct)\n",
    "df_indiv.to_csv(os.path.join(folder_result, f\"(개별속성)_{process}_추가분-521,524,525,527,529_데이터 정비 파이프라인_개별속성 작업 시작_{today}.csv\"), index=False, encoding='cp949')"
   ]
  }
 ],
 "metadata": {
  "language_info": {
   "name": "python"
  }
 },
 "nbformat": 4,
 "nbformat_minor": 2
}
