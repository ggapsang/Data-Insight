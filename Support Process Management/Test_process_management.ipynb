{
 "cells": [
  {
   "cell_type": "code",
   "execution_count": 4,
   "metadata": {},
   "outputs": [],
   "source": [
    "import numpy as np\n",
    "import pandas as pd\n",
    "import os\n",
    "import sys\n",
    "from datetime import datetime\n",
    "from tqdm import tqdm\n",
    "\n",
    "import PivotTables as pt\n",
    "from process_mangement import TableTransformer as tt"
   ]
  },
  {
   "cell_type": "code",
   "execution_count": null,
   "metadata": {},
   "outputs": [],
   "source": [
    "# 폴더경로\n",
    "folder_common = \"D:\\\\pypy\\\\너무해\\\\\"\n",
    "folder_schema = \"D:\\\\pypy\\\\너무해\\\\schema\\\\\"\n",
    "folder_std_ds = \"D:\\\\pypy\"\n",
    "\n",
    "# 분류체계 파일 로드\n",
    "f_cct = \"분류체계.csv\"\n",
    "path_cct = os.path.join(folder_schema, f_cct)\n",
    "df_cct = pd.read_csv(path_cct)\n",
    "\n",
    "# 속성체계 파일 로드\n",
    "f_indiv = \"속성체계.csv\"\n",
    "path_indiv = os.path.join(folder_schema, f_indiv)\n",
    "df_indiv = pd.read_csv(path_indiv)\n",
    "\n",
    "# 공통속성 작업파일 로드\n",
    "f_nm = \"2201_516_공통작업파일.csv\"\n",
    "f_path = os.path.join(folder_common, f_nm)\n",
    "df_common = pd.read_csv(f_path, encoding='utf8')\n",
    "\n",
    "# 해더 파일 로드\n",
    "header_path = os.path.join(folder_common, \"info_headers.csv\")\n",
    "df_headers = pd.read_csv(header_path, encoding='utf8')\n",
    "df_headers = df_headers.fillna(value=np.nan)\n",
    "\n",
    "# 표준데이터시트 파일 로드\n",
    "f_std_ds = \"표준데이터시트.csv\"\n",
    "f_std_ds_path = os.path.join(folder_std_ds, f_std_ds)\n",
    "df_std_ds = pd.read_csv(f_std_ds_path, encoding='utf8')"
   ]
  },
  {
   "cell_type": "code",
   "execution_count": null,
   "metadata": {},
   "outputs": [],
   "source": [
    "transformer = tt(df_common, df_cct, df_indiv)\n",
    "\n",
    "df_workfile = transformer.from_common_to_indiv(df_headers, df_std_ds)"
   ]
  }
 ],
 "metadata": {
  "kernelspec": {
   "display_name": "Python 3.8 (newenv)",
   "language": "python",
   "name": "your_env_name"
  },
  "language_info": {
   "codemirror_mode": {
    "name": "ipython",
    "version": 3
   },
   "file_extension": ".py",
   "mimetype": "text/x-python",
   "name": "python",
   "nbconvert_exporter": "python",
   "pygments_lexer": "ipython3",
   "version": "3.11.5"
  }
 },
 "nbformat": 4,
 "nbformat_minor": 2
}
