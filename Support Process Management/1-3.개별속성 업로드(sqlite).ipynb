import numpy as np
import pandas as pd
import os
import sys
import sqlite3
from datetime import datetime
from tqdm import tqdm


import PivotTable as pt
from process_mangement import TableTransformer as tt
