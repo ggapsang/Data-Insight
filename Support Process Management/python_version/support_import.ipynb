{
 "cells": [
  {
   "cell_type": "code",
   "execution_count": 1,
   "metadata": {},
   "outputs": [],
   "source": [
    "import os\n",
    "import pandas as pd\n",
    "import numpy as np\n",
    "import sqlite3\n",
    "import json\n",
    "\n",
    "from tqdm import tqdm\n",
    "from datetime import datetime\n",
    "\n",
    "tqdm.pandas()\n",
    "\n",
    "import warnings\n",
    "warnings.filterwarnings(\"ignore\")"
   ]
  },
  {
   "cell_type": "code",
   "execution_count": null,
   "metadata": {},
   "outputs": [],
   "source": [
    "def load_renaming_mapping(cct_json, cct) :\n",
    "    \"\"\"각 속성 항목이 개별속성 몇 번째에 매핑되는지를 리스트로 반환\"\"\"\n",
    "    cct_idx = cct_json[\"index\"][cct]\n",
    "    cct_dict = cct_json['header_list'][cct_idx]\n",
    "    try :\n",
    "        del cct_dict[\"C|C|T\"]\n",
    "    except :\n",
    "        pass\n",
    "    key_attr_no = cct_dict.keys()\n",
    "    val_attr_nm = cct_dict.values()\n",
    "    reversed_nm_dict = dict(zip(val_attr_nm, key_attr_no))\n",
    "\n",
    "    return reversed_nm_dict"
   ]
  },
  {
   "cell_type": "code",
   "execution_count": null,
   "metadata": {},
   "outputs": [],
   "source": [
    "## step 0 : 경로 저장\n",
    "db_path = os.path.join(os.getcwd(), '개별속성.sqlite3')\n",
    "output_path = os.path.join(os.getcwd(), \"2202_import_test.xlsx\")"
   ]
  },
  {
   "cell_type": "code",
   "execution_count": null,
   "metadata": {},
   "outputs": [],
   "source": [
    "## step 1 : 데이터베이스에 접속하여 테이블을 읽어 데이터프레임으로 가져온다\n",
    "conn = sqlite3.connect(db_path)\n",
    "indiv_table_name = \"2201_개별속성리스트\"\n",
    "common_table_name  = '2201_공통속성'\n",
    "df_indiv = pd.read_sql_query(f'SELECT * FROM \"{indiv_table_name}\"', conn)\n",
    "df_common = pd.read_sql_query(f'SELECT * FROM \"{common_table_name}\"', conn)"
   ]
  },
  {
   "cell_type": "code",
   "execution_count": null,
   "metadata": {},
   "outputs": [],
   "source": [
    "## step2 : 사전 저장된 산출물 템플릿 파일을 불러온다\n",
    "df_indiv_templates = pd.read_csv('개별속성템플릿_v2.51.csv')\n",
    "with open (\"cct_dict_240612.json\") as f :\n",
    "    cct_json = json.load(f)"
   ]
  },
  {
   "cell_type": "code",
   "execution_count": null,
   "metadata": {},
   "outputs": [],
   "source": [
    "# 예시\n",
    "cct = \"FIXED EQUIPMENT|VESSEL|HORIZONTAL\"\n",
    "nm_mapping = load_renaming_mapping(cct_json, cct)\n",
    "\n",
    "df_indiv_template = df_indiv_templates[df_indiv_templates['C|C|T'] ==\"FIXED EQUIPMENT|VESSEL|HORIZONTAL\"]\n",
    "df_indiv_template = df_indiv_template[df_indiv_template['속성 그룹 코드']=='01_속성명']\n",
    "\n",
    "df_pivot_ready = df_indiv[df_indiv['C|C|T'] == \"FIXED EQUIPMENT|VESSEL|HORIZONTAL\"]\n",
    "df_pivot = df_pivot_ready[['SRNo', '속성명', '속성값']].pivot(index='SRNo', columns='속성명', values='속성값')\n",
    "df_pivot_ren = df_pivot.rename(columns=nm_mapping)\n",
    "df_pivot_ren\n",
    "\n",
    "df_indiv_template\n",
    "\n",
    "df = pd.concat([df_indiv_template, df_pivot_ren], axis=0)"
   ]
  }
 ],
 "metadata": {
  "kernelspec": {
   "display_name": "base",
   "language": "python",
   "name": "python3"
  },
  "language_info": {
   "codemirror_mode": {
    "name": "ipython",
    "version": 3
   },
   "file_extension": ".py",
   "mimetype": "text/x-python",
   "name": "python",
   "nbconvert_exporter": "python",
   "pygments_lexer": "ipython3",
   "version": "3.11.7"
  }
 },
 "nbformat": 4,
 "nbformat_minor": 2
}
