import os
import pandas as pd
import numpy as np
import sqlite3
import json

from tqdm import tqdm
from datetime import datetime

tqdm.pandas()

import warnings
warnings.filterwarnings("ignore")
def create_nested_dataframe(df, filter_col, filter_val, header_col, header_val):
    """
    주어진 데이터프레임에서 특정 필터 조건에 맞는 데이터를 먼저 추출하고,
    다시 해당 조건 중 값을 가진 레코드를 헤더로 사용하는 중첩 데이터프레임을 생성

    Parameters:
    df (pd.DataFrame): 원본 데이터프레임
    filter_col (str): 필터링에 사용할 컬럼명
    filter_val (any): 필터링 조건에 사용할 값
    header_col (str): 헤더로 사용할 레코드를 찾기 위한 컬럼명
    header_val (any): 헤더로 사용할 레코드를 찾기 위한 값

    Returns:
    pd.DataFrame: 헤더를 설정한 새로운 중첩 데이터프레임
    """


    # 필터링 조건에 맞는 데이터프레임 생성
    filtered_df = df[df[filter_col] == filter_val]

    # 헤더로 사용할 레코드 찾기
    header = filtered_df[filtered_df[header_col] == header_val].iloc[0]

    # 나머지 데이터를 새로운 데이터프레임으로 구성
    nested_df = filtered_df[filtered_df[header_col] != header_val].reset_index(drop=True)

    # 새 데이터프레임의 컬럼명을 헤더로 설정
    nested_df.columns = header

    # 'Unnamed'로 시작하는 모든 열을 드롭
    nested_df = nested_df.loc[:, ~nested_df.columns.astype(str).str.startswith('Unnamed')]
    nested_df = nested_df.loc[:, ~nested_df.columns.astype(str).str.contains('nan', case=False)]

    return nested_df
## step 0 : 경로 저장

db_path = os.path.join(os.getcwd(), '개별속성.sqlite3')
output_path = os.path.join(os.getcwd(), "2202_import_test.xlsx")
## step 1 : 데이터베이스에 접속하여 테이블을 읽어 데이터프레임으로 가져온다
conn = sqlite3.connect(db_path)
indiv_table_name = "2201_개별속성리스트"
common_table_name  = '2201_공통속성'
df_indiv = pd.read_sql_query(f'SELECT * FROM "{indiv_table_name}"', conn)
df_common = pd.read_sql_query(f'SELECT * FROM "{common_table_name}"', conn)
## step2 : 사전 저장된 산출물 템플릿 파일을 불러온다
df_indiv_templates = pd.read_csv('개별속성템플릿_v2.51.csv')
with open ("cct_dict_240612.json") as f :
    cct_json = json.load(f)
def load_renaming_mapping(cct_json, cct) :
    """각 속성 항목이 개별속성 몇 번째에 매핑되는지를 리스트로 반환"""
    cct_idx = cct_json["index"][cct]
    cct_dict = cct_json['header_list'][cct_idx]
    try :
        del cct_dict["C|C|T"]
    except :
        pass
    key_attr_no = cct_dict.keys()
    val_attr_nm = cct_dict.values()
    reversed_nm_dict = dict(zip(val_attr_nm, key_attr_no))

    return reversed_nm_dict
cct = "FIXED EQUIPMENT|VESSEL|HORIZONTAL"
nm_mapping = load_renaming_mapping(cct_json, cct)
df_indiv_template = df_indiv_templates[df_indiv_templates['C|C|T'] =="FIXED EQUIPMENT|VESSEL|HORIZONTAL"]
df_indiv_template = df_indiv_template[df_indiv_template['속성 그룹 코드']=='01_속성명']
df_pivot_ready = df_indiv[df_indiv['C|C|T'] == "FIXED EQUIPMENT|VESSEL|HORIZONTAL"]
df_pivot = df_pivot_ready[['SRNo', '속성명', '속성값']].pivot(index='SRNo', columns='속성명', values='속성값')
df_pivot_ren = df_pivot.rename(columns=nm_mapping)
df_pivot_ren
속성명	개별속성22	개별속성12	개별속성14	개별속성32	개별속성33	개별속성16	개별속성25	개별속성31	개별속성30	개별속성29	...	개별속성40	개별속성10	개별속성11	개별속성3	개별속성8	개별속성6	개별속성7	개별속성9	개별속성5	개별속성4
SRNo																					
AJ196582	3.2|mm	3.5|kg/cm2g	115|Deg C	NO	None	2:1 ELLIPSOIDAL	None	None	None	100%	...	A283-C	None	None	SLOP OIL	1350|mm	ATM	80|Deg C	0.8~1.0	None	10.9|m3
DOF516002901	0|mm	FL	AMB	None	None	2:1 ELLIPSOIDAL	None	None	None	None	...	SS400	None	None	HCL	None	ATM	AMB	1.17	None	30|m3
DOF516003577	3.2|mm	3.5|kg/cm2g	147|Deg C	NO	None	2:1 ELLIPSOIDAL	None	20|mm	None	100%	...	A283-C	None	None	LP Condensate	1400|mm	ATM	100|Deg C	0.958	None	20.94|m3
DOF516003760	3.2mm ; 0.8mm (C.S / S.S)	5.3|kg/cm2g	204|Deg C	None	None	2:1 ELLIPSOIDAL	None	30|mm	HOT	100%	...	A283-C	None	None	Steam & Water	3250|mm	0.75|kg/cm2g	116|Deg C	None	None	123.3|m3
DOF521000833	3.2|mm	3.5|kg/cm2g	232|Deg C	YES	50|mm	2:1 ELLIPSOIDAL	None	20|mm	None	100%	...	A283-C	None	None	Sour Water	900|mm	0.2|kg/cm2g	85|Deg C	0.97	None	6.41|m3
DOF521000868	3.2|mm	3.5|kg/cm2g	350|Deg C	NO	None	2:1 ELLIPSOIDAL	None	20|mm	None	100%	...	A283-C	None	None	HydroCarbon	None	0.4|kg/cm2g	80|Deg C	0.75	None	471.21|m3
DOF524000342	3.2|mm	3.5|kg/cm2g	115|Deg C	NO	None	2:1 ELLIPSOIDAL	None	None	None	100%	...	A283-C	None	None	RECOVERED OIL	1350|mm	ATM	80|Deg C	0.8~1.0	None	10.78|m3
DOF720006918	3.0|mm	3.5|kg/cm2g	115|Deg C	NO	None	2:1 ELLIP.	None	None	None	100%	...	SA283-C	None	None	WASTE WATER	1350|mm	ATM	75|Deg C	0.8~1.0	None	10.78|m3
8 rows × 46 columns

df_indiv
SRNo	속성순번	속성값	공정	C|C|T	속성명	SR_No_ATTR	카테고리	클래스	타입
0	AJ196582	개별속성1	1500mm; 996mm	524	FIXED EQUIPMENT|VESSEL|HORIZONTAL	HEADER SIZE ID	AJ196582|HEADER SIZE ID	FIXED EQUIPMENT	VESSEL	HORIZONTAL
1	DOF516002901	개별속성1	2500mm	516	FIXED EQUIPMENT|VESSEL|HORIZONTAL	HEADER SIZE ID	DOF516002901|HEADER SIZE ID	FIXED EQUIPMENT	VESSEL	HORIZONTAL
2	DOF516003577	개별속성1	2000mm	516	FIXED EQUIPMENT|VESSEL|HORIZONTAL	HEADER SIZE ID	DOF516003577|HEADER SIZE ID	FIXED EQUIPMENT	VESSEL	HORIZONTAL
3	DOF516003760	개별속성1	2500mm; 3680mm (DTR; FWT)	516	FIXED EQUIPMENT|VESSEL|HORIZONTAL	HEADER SIZE ID	DOF516003760|HEADER SIZE ID	FIXED EQUIPMENT	VESSEL	HORIZONTAL
4	DOF521000833	개별속성1	1400mm	521	FIXED EQUIPMENT|VESSEL|HORIZONTAL	HEADER SIZE ID	DOF521000833|HEADER SIZE ID	FIXED EQUIPMENT	VESSEL	HORIZONTAL
...	...	...	...	...	...	...	...	...	...	...
157446	AJ265786	개별속성1	EMERGENCY SHOWER	516	OUT OF PROCESS EQUIPMENT|EMERGENCY & EYE SHOWE...	PURPOSE OF USE	AJ265786|PURPOSE OF USE	OUT OF PROCESS EQUIPMENT	EMERGENCY & EYE SHOWER	EMERGENCY & EYE SHOWER
157447	DOF516001577	개별속성1	SAFETY&EYE SHOWER	516	OUT OF PROCESS EQUIPMENT|EMERGENCY & EYE SHOWE...	PURPOSE OF USE	DOF516001577|PURPOSE OF USE	OUT OF PROCESS EQUIPMENT	EMERGENCY & EYE SHOWER	EMERGENCY & EYE SHOWER
157448	DOF516002881	개별속성1	SAFETY&EYE SHOWER	516	OUT OF PROCESS EQUIPMENT|EMERGENCY & EYE SHOWE...	PURPOSE OF USE	DOF516002881|PURPOSE OF USE	OUT OF PROCESS EQUIPMENT	EMERGENCY & EYE SHOWER	EMERGENCY & EYE SHOWER
157449	DOF516003485	개별속성1	SAFETY&EYE SHOWER	516	OUT OF PROCESS EQUIPMENT|EMERGENCY & EYE SHOWE...	PURPOSE OF USE	DOF516003485|PURPOSE OF USE	OUT OF PROCESS EQUIPMENT	EMERGENCY & EYE SHOWER	EMERGENCY & EYE SHOWER
157450	DOF516010757	개별속성1	SAFETY&EYE SHOWER	516	OUT OF PROCESS EQUIPMENT|EMERGENCY & EYE SHOWE...	PURPOSE OF USE	DOF516010757|PURPOSE OF USE	OUT OF PROCESS EQUIPMENT	EMERGENCY & EYE SHOWER	EMERGENCY & EYE SHOWER
157451 rows × 10 columns

 
