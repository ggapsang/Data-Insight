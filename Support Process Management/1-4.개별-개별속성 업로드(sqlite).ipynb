{
 "cells": [
  {
   "cell_type": "code",
   "execution_count": 1,
   "metadata": {},
   "outputs": [],
   "source": [
    "import numpy as np\n",
    "import pandas as pd\n",
    "import os\n",
    "import sys\n",
    "import sqlite3\n",
    "from datetime import datetime\n",
    "from tqdm import tqdm\n",
    "\n",
    "\n",
    "import PivotTable as pt\n",
    "from process_mangement import TableTransformer as tt"
   ]
  },
  {
   "cell_type": "code",
   "execution_count": 2,
   "metadata": {},
   "outputs": [],
   "source": [
    "process = \"2201\"\n",
    "today= datetime.today().strftime('%Y%m%d')"
   ]
  },
  {
   "cell_type": "code",
   "execution_count": null,
   "metadata": {},
   "outputs": [],
   "source": [
    "# 폴더경로\n",
    "folder_base = os.getcwd()\n",
    "folder_common = os.path.join(folder_base, \"working_common\")\n",
    "folder_schema = os.path.join(folder_base, \"schema\")\n",
    "folder_src = os.path.join(folder_base, \"working_by_source\")\n",
    "folder_result = os.path.join(folder_base, \"result\")\n",
    "\n",
    "# 분류체계 파일 로드\n",
    "f_cct = \"분류체계.csv\"\n",
    "path_cct = os.path.join(folder_schema, f_cct)\n",
    "df_cct = pd.read_csv(path_cct)\n",
    "\n",
    "# 속성체계 파일 로드\n",
    "f_indiv = \"속성체계.csv\"\n",
    "path_indiv = os.path.join(folder_schema, f_indiv)\n",
    "df_indiv = pd.read_csv(path_indiv)\n",
    "\n",
    "# 작업파일 로드\n",
    "f_nm = \"표준데이터시트-고정.csv\"\n",
    "f_path = os.path.join(folder_src, f_nm)\n",
    "df_attrs_sta = pd.read_csv(f_path, encoding='utf8')\n",
    "\n",
    "# 해더 파일 로드\n",
    "header_path = os.path.join(folder_schema, \"info_headers.csv\")\n",
    "df_headers = pd.read_csv(header_path, encoding='utf8')\n",
    "df_headers = df_headers.fillna(value=np.nan)"
   ]
  },
  {
   "cell_type": "code",
   "execution_count": null,
   "metadata": {},
   "outputs": [],
   "source": [
    "db_path = os.path.join(folder_base, \"db\", \"db.sqlite3\")\n",
    "conn = sqlite3.connect(db_path)\n",
    "cur = conn.cursor()"
   ]
  },
  {
   "cell_type": "code",
   "execution_count": null,
   "metadata": {},
   "outputs": [],
   "source": [
    "table_name = \"공통속성\"\n",
    "columns = [] # 업로드할 컬럼들을 입력\n",
    "primary_key_columns = ['공정', 'SRNo']\n",
    "primary_key_str = ', '.join(primary_key_columns)\n",
    "update_columns_str = ', '.join([f\"{col} = excluded.{col}\" for col in columns if col not in primary_key_columns])\n",
    "\n",
    "query = f\"\"\"\n",
    "    INSERT INTO {table_name} ({', '.join(columns)})\n",
    "    SELECT {', '.join(columns)} FROM temp_table\n",
    "    ON CONFLICT ({primary_key_str}) DO UPDATE SET\n",
    "    {update_columns_str}\n",
    "\"\"\""
   ]
  },
  {
   "cell_type": "code",
   "execution_count": null,
   "metadata": {},
   "outputs": [],
   "source": [
    "# 임시 테이블 생성 및 데이터 삽입\n",
    "df_attrs_sta.to_sql('temp_table', conn, if_exists='replace', index=False)\n",
    "\n",
    "# 기존 테이블에 데이터 병합\n",
    "cur.execute(query)\n",
    "\n",
    "# 임시 테이블 삭제\n",
    "cur.execute(\"DROP TABLE temp_table\")\n",
    "\n",
    "# 커밋 및 연결 종료\n",
    "conn.commit()\n",
    "conn.close()"
   ]
  }
 ],
 "metadata": {
  "kernelspec": {
   "display_name": "Python 3.8 (newenv)",
   "language": "python",
   "name": "your_env_name"
  },
  "language_info": {
   "codemirror_mode": {
    "name": "ipython",
    "version": 3
   },
   "file_extension": ".py",
   "mimetype": "text/x-python",
   "name": "python",
   "nbconvert_exporter": "python",
   "pygments_lexer": "ipython3",
   "version": "3.11.5"
  }
 },
 "nbformat": 4,
 "nbformat_minor": 2
}
