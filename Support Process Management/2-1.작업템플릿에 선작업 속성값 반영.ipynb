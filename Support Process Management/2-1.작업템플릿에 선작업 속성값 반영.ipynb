{
 "cells": [
  {
   "cell_type": "code",
   "execution_count": 1,
   "metadata": {},
   "outputs": [],
   "source": [
    "import pandas as pd\n",
    "import numpy as np\n",
    "import os\n",
    "\n",
    "import PivotTable as pt\n",
    "import process_mangement as pm\n",
    "\n",
    "import warnings\n",
    "warnings.filterwarnings(\"ignore\")"
   ]
  },
  {
   "cell_type": "code",
   "execution_count": 2,
   "metadata": {},
   "outputs": [],
   "source": [
    "# readDb = pm.readDb(db_path)\n",
    "\n",
    "# df_attrs_stdds = readDb.read_table('표준데이터시트_개별속성')\n",
    "# df_attrs_nonstdds = readDb.read_table('비표준데이터시트_개별속성')\n",
    "\n",
    "# df_attrs_header = readDb.read_table('속성해더')"
   ]
  },
  {
   "cell_type": "code",
   "execution_count": 3,
   "metadata": {},
   "outputs": [],
   "source": [
    "# 실제 코드가 완성된 후에 앞부분은 SQLite에서 QUERY를 통해 가져와서 바로 DATAFRAME으로 변환하는 방식으로 변경할 예정\n",
    "# 지금은 테스트를 위해 CSV 파일을 사용\n",
    "\n",
    "# 데이터 불러오기\n",
    "base_path_test = os.path.join(os.getcwd(), 'test_file')\n",
    "\n",
    "df_working_f = pd.read_csv(os.path.join(base_path_test, '개별속성_작업파일(Test).csv'), dtype={'공정번호' : str}) # 작업파일\n",
    "df_attrs_stdds = pd.read_csv(os.path.join(base_path_test, '개별속성_표준데이터시트(Test).csv'), dtype={'공정번호' : str}) # 표준데이터시트\n",
    "df_attrs_nonstdds = pd.read_csv(os.path.join(base_path_test, '개별속성_비표준데이터시트(Test).csv'), dtype={'공정번호' : str}) # 비표준데이터시트\n",
    "df_attrs_header = pd.read_csv(os.path.join(base_path_test, '속성해더.csv'), dtype={'공정번호' : str}) # 속성해더"
   ]
  },
  {
   "cell_type": "code",
   "execution_count": 4,
   "metadata": {},
   "outputs": [],
   "source": [
    "df_attrs_header = df_attrs_header[df_attrs_header['속성 그룹 코드']=='01_속성명']\n",
    "\n",
    "df_attrs_list = {'표준데이터시트' : df_attrs_stdds, '선작업데이터' : df_attrs_nonstdds}\n",
    "\n",
    "df_fins = []\n",
    "\n",
    "for source, df_attrs in df_attrs_list.items() :\n",
    "    df_attrs_header = df_attrs_header[df_attrs_header['속성 그룹 코드']=='01_속성명']\n",
    "    insert_attrs_preprocessing = pm.InsertAttrstPreprocessing(df_working_f, df_attrs_header)\n",
    "    insert_attrs_preprocessing.step0_1()\n",
    "    insert_attrs_preprocessing.step0_2(df_attrs, col_name=source)\n",
    "\n",
    "    df_working_f = insert_attrs_preprocessing.df_working_f\n",
    "    df_attrs = insert_attrs_preprocessing.df_attrs\n",
    "\n",
    "    df_fin = pd.DataFrame(columns=df_attrs_header.columns)\n",
    "    df_results =[]\n",
    "\n",
    "    for i in range(len(df_attrs_header)) :\n",
    "        insert_attrs_pipeline = pm.InsertAttrsPipeline(df_working_f, df_attrs, df_attrs_header)\n",
    "        df_result = insert_attrs_pipeline.excute(i)\n",
    "        df_results.append(insert_attrs_pipeline.df_cct_result)\n",
    "\n",
    "    df_results.insert(0, df_fin)\n",
    "    df_fin = pd.concat(df_results, axis=0)\n",
    "\n",
    "    df_fin = pd.concat([df_fin, df_working_f], ignore_index=True)\n",
    "    df_fin = df_fin.drop_duplicates(subset=['SRNo', '공종별 분류 코드'], keep='first')\n",
    "    df_fin.sort_values(by=['공종별 분류 코드', '속성 그룹 코드'], inplace=True)\n",
    "\n",
    "    df_fins.append(df_fin)"
   ]
  },
  {
   "cell_type": "code",
   "execution_count": 5,
   "metadata": {},
   "outputs": [],
   "source": [
    "def merge_and_update(df1, df2) :\n",
    "    \"\"\"우선순위 업데이트(특정 칼럼을 키 값으로 할 경우)\"\"\"\n",
    "    df_merged = pd.merge(df1, df2, on=['SRNo', '공종별 분류 코드'], suffixes=['_1st', '_2nd'], how='left')\n",
    "\n",
    "    # update할 칼럼에 대하여 combine_first 수행\n",
    "    update_columns = [f'속성{i}' for i in range(1, 8)]\n",
    "    for col in update_columns :\n",
    "        df_merged[col] = df_merged[f\"{col}_1st\"].combine_first(df_merged[f'{col}_2nd'])\n",
    "\n",
    "    columns = [col for col in df_merged.columns.to_list() if '_1st' not in col and '_2nd' not in col]\n",
    "    df_merged = df_merged[columns]\n",
    "    return df_merged"
   ]
  },
  {
   "cell_type": "code",
   "execution_count": null,
   "metadata": {},
   "outputs": [],
   "source": [
    "df_merged = merge_and_update(df_fins[0], df_fins[1])"
   ]
  },
  {
   "cell_type": "code",
   "execution_count": null,
   "metadata": {},
   "outputs": [],
   "source": [
    "fin_result_df = pd.merge(df_working_f, df_merged, left_on=['SRNo', '공종별 분류 코드'], suffixes=['_x', ''], right_on=['SRNo', '공종별 분류 코드'], how='left')\n",
    "columns = [col for col in fin_result_df.columns.to_list() if '_x' not in col]\n",
    "fin_result_df = fin_result_df[columns]"
   ]
  },
  {
   "cell_type": "code",
   "execution_count": 11,
   "metadata": {},
   "outputs": [],
   "source": [
    "fin_result_df.to_csv(os.path.join(base_path_test, \"개별속성_작업파일_결과(Test)-result.csv\"), index=False, encoding='cp949')"
   ]
  }
 ],
 "metadata": {
  "kernelspec": {
   "display_name": "newenv",
   "language": "python",
   "name": "python3"
  },
  "language_info": {
   "codemirror_mode": {
    "name": "ipython",
    "version": 3
   },
   "file_extension": ".py",
   "mimetype": "text/x-python",
   "name": "python",
   "nbconvert_exporter": "python",
   "pygments_lexer": "ipython3",
   "version": "3.8.18"
  }
 },
 "nbformat": 4,
 "nbformat_minor": 2
}
