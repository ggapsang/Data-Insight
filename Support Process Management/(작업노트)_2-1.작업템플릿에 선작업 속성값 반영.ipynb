{
 "cells": [
  {
   "cell_type": "code",
   "execution_count": 1,
   "metadata": {},
   "outputs": [],
   "source": [
    "import pandas as pd\n",
    "import numpy as np\n",
    "import PivotTable as pt\n",
    "import process_mangement as pm\n",
    "import os"
   ]
  },
  {
   "cell_type": "markdown",
   "metadata": {},
   "source": [
    "##### Test용 파일 불러오기"
   ]
  },
  {
   "cell_type": "code",
   "execution_count": 7,
   "metadata": {},
   "outputs": [],
   "source": [
    "# 실제 코드가 완성된 후에 앞부분은 SQLite에서 QUERY를 통해 가져와서 바로 DATAFRAME으로 변환하는 방식으로 변경할 예정\n",
    "# 지금은 테스트를 위해 CSV 파일을 사용\n",
    "\n",
    "# 데이터 불러오기\n",
    "base_path_test = os.path.join(os.getcwd(), 'test_file')\n",
    "\n",
    "df_working_f = pd.read_csv(os.path.join(base_path_test, '개별속성_작업파일(Test).csv'))\n",
    "df_attrs_stdds = pd.read_csv(os.path.join(base_path_test, '개별속성_표준데이터시트(Test).csv'))\n",
    "df_attrs_nonstdds = pd.read_csv(os.path.join(base_path_test, '개별속성_비표준데이터시트(Test).csv'))"
   ]
  },
  {
   "cell_type": "code",
   "execution_count": 8,
   "metadata": {},
   "outputs": [
    {
     "data": {
      "text/plain": [
       "Index(['SRNo', '작업자', '출처', '공정번호', '선작업데이터', '표준데이터시트', '공종별 분류 코드',\n",
       "       '속성 그룹 코드', '속성1', '속성2', '속성3', '속성4', '속성5', '속성6', '속성7'],\n",
       "      dtype='object')"
      ]
     },
     "execution_count": 8,
     "metadata": {},
     "output_type": "execute_result"
    }
   ],
   "source": [
    "df_working_f.columns"
   ]
  },
  {
   "cell_type": "markdown",
   "metadata": {},
   "source": [
    "##### 칼럼 수정:\n",
    "표준데이터시트에서 추출된 태그와 비표준데이터시트에서 추출된 태그가 대표 태그로 올라와 있을 경우 [표준데이터시트] 칼럼과 [선작업데이터] 칼럼에 값이 들어가 있지 않으므로, 이를 채워줘야 함 "
   ]
  },
  {
   "cell_type": "code",
   "execution_count": null,
   "metadata": {},
   "outputs": [],
   "source": [
    "df_working_f['표준데이터시트'] = df_workinng_f"
   ]
  }
 ],
 "metadata": {
  "kernelspec": {
   "display_name": "newenv",
   "language": "python",
   "name": "python3"
  },
  "language_info": {
   "codemirror_mode": {
    "name": "ipython",
    "version": 3
   },
   "file_extension": ".py",
   "mimetype": "text/x-python",
   "name": "python",
   "nbconvert_exporter": "python",
   "pygments_lexer": "ipython3",
   "version": "3.8.18"
  }
 },
 "nbformat": 4,
 "nbformat_minor": 2
}
